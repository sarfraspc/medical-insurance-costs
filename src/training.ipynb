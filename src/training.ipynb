{
 "cells": [
  {
   "cell_type": "code",
   "execution_count": 1,
   "id": "fe13e866",
   "metadata": {},
   "outputs": [],
   "source": [
    "import pandas as pd\n",
    "\n",
    "df=pd.read_csv('../data/cleaned.csv')"
   ]
  },
  {
   "cell_type": "code",
   "execution_count": 2,
   "id": "3d6a3040",
   "metadata": {},
   "outputs": [],
   "source": [
    "from sklearn.model_selection import train_test_split\n",
    "\n",
    "X=df.drop('charges',axis=1)\n",
    "y=df['charges']\n",
    "X_train,X_test,y_train,y_test=train_test_split(X,y,test_size=0.2,random_state=33)\n"
   ]
  },
  {
   "cell_type": "code",
   "execution_count": 3,
   "id": "94dec43c",
   "metadata": {},
   "outputs": [],
   "source": [
    "from sklearn.preprocessing import StandardScaler\n",
    "\n",
    "scalar=StandardScaler()\n",
    "cols=['age','bmi','children','smoker_bmi','smoker_children']\n",
    "\n",
    "X_train_scaled=scalar.fit_transform(X_train[cols])\n",
    "X_test_scaled=scalar.transform(X_test[cols])\n"
   ]
  },
  {
   "cell_type": "code",
   "execution_count": 4,
   "id": "c7b2e457",
   "metadata": {},
   "outputs": [],
   "source": [
    "import numpy as np\n",
    "\n",
    "X_train_lin = np.hstack([X_train_scaled, X_train.drop(cols, axis=1).values])\n",
    "X_test_lin = np.hstack([X_test_scaled, X_test.drop(cols, axis=1).values])\n"
   ]
  },
  {
   "cell_type": "code",
   "execution_count": 5,
   "id": "537aa6f0",
   "metadata": {},
   "outputs": [
    {
     "name": "stdout",
     "output_type": "stream",
     "text": [
      "Original X_train shape: (1069, 11)\n",
      "X_train_scaled shape : (1069, 5)\n",
      "X_train_lin shape: (1069, 11)\n"
     ]
    }
   ],
   "source": [
    "print(\"Original X_train shape:\", X_train.shape)\n",
    "print(\"X_train_scaled shape :\", X_train_scaled.shape)\n",
    "print(\"X_train_lin shape:\", X_train_lin.shape)"
   ]
  },
  {
   "cell_type": "code",
   "execution_count": 6,
   "id": "db6d5540",
   "metadata": {},
   "outputs": [],
   "source": [
    "from sklearn.linear_model import LinearRegression,Ridge\n",
    "\n",
    "linear=LinearRegression()\n",
    "linear.fit(X_train_lin,y_train)\n",
    "linear_pred=linear.predict(X_test_lin)"
   ]
  },
  {
   "cell_type": "code",
   "execution_count": 7,
   "id": "da2ace09",
   "metadata": {},
   "outputs": [],
   "source": [
    "from sklearn.model_selection import GridSearchCV\n",
    "\n",
    "param_grid_ridge={\n",
    "    'alpha':[0.1,1.0,5,10]\n",
    "}\n",
    "ridge=GridSearchCV(Ridge(),param_grid=param_grid_ridge,cv=3)\n",
    "ridge.fit(X_train_lin,y_train)\n",
    "ridge_pred=ridge.predict(X_test_lin)"
   ]
  },
  {
   "cell_type": "code",
   "execution_count": 8,
   "id": "dd77cf39",
   "metadata": {},
   "outputs": [],
   "source": [
    "from sklearn.preprocessing import PolynomialFeatures\n",
    "from sklearn.pipeline import make_pipeline\n",
    "\n",
    "poly_model=make_pipeline(PolynomialFeatures(),LinearRegression())\n",
    "param_grid_poly={\n",
    "    'polynomialfeatures__degree':[2,3,4,5]\n",
    "}\n",
    "\n",
    "poly=GridSearchCV(poly_model,param_grid=param_grid_poly,cv=3)\n",
    "poly.fit(X_train_lin,y_train)\n",
    "poly_pred=poly.predict(X_test_lin)"
   ]
  },
  {
   "cell_type": "code",
   "execution_count": 9,
   "id": "6589c401",
   "metadata": {},
   "outputs": [],
   "source": [
    "from sklearn.svm import SVR\n",
    "\n",
    "param_grid_svr={\n",
    "    'epsilon':[0.1,0.3,0.5],\n",
    "    'C':[0.1,1,5],\n",
    "    'kernel':['linear','rbf']\n",
    "}\n",
    "\n",
    "scalr_y=StandardScaler()\n",
    "y_train_scaled=scalr_y.fit_transform(y_train.values.reshape(-1,1)).ravel()\n",
    "\n",
    "svr=GridSearchCV(SVR(),param_grid=param_grid_svr,cv=2,n_jobs=-1)\n",
    "svr.fit(X_train_lin,y_train_scaled)\n",
    "svr_pred_scaled=svr.predict(X_test_lin)\n",
    "svr_pred=scalr_y.inverse_transform(svr_pred_scaled.reshape(-1,1)).ravel()\n"
   ]
  },
  {
   "cell_type": "code",
   "execution_count": 10,
   "id": "fbae89f3",
   "metadata": {},
   "outputs": [],
   "source": [
    "from sklearn.ensemble import RandomForestRegressor\n",
    "\n",
    "param_grid_random={\n",
    "    'n_estimators':[100,200],\n",
    "    'min_samples_split':[2,5],\n",
    "    'max_depth':[None,5,10,20]\n",
    "}\n",
    "\n",
    "random=GridSearchCV(RandomForestRegressor(random_state=44),param_grid=param_grid_random,cv=3)\n",
    "random.fit(X_train,y_train)\n",
    "random_pred=random.predict(X_test)"
   ]
  },
  {
   "cell_type": "code",
   "execution_count": 11,
   "id": "bf370aae",
   "metadata": {},
   "outputs": [
    {
     "name": "stdout",
     "output_type": "stream",
     "text": [
      "Linear Regression\n",
      "mae 0.28491006197532587\n",
      "mse 0.19370497433830597\n",
      "r2 0.772378560351457 \n",
      "\n",
      "Ridge Regression\n",
      "mae 0.2840034355206889\n",
      "mse 0.19333392061236307\n",
      "r2 0.7728145831411379 \n",
      "\n",
      "Polynomial Regression\n",
      "mae 0.2118870028571226\n",
      "mse 0.14611604303107043\n",
      "r2 0.8283000001208354 \n",
      "\n",
      "svr\n",
      "mae 0.27676450720889484\n",
      "mse 0.20311353533847779\n",
      "r2 0.7613226222827735 \n",
      "\n",
      "Randome Forest\n",
      "mae 0.20167093976618664\n",
      "mse 0.13912137947167613\n",
      "r2 0.8365193832042346 \n",
      "\n"
     ]
    }
   ],
   "source": [
    "from sklearn.metrics import mean_absolute_error,mean_squared_error,r2_score\n",
    "\n",
    "def eval(name,ytest,ypred):\n",
    "    print(name)\n",
    "    print('mae',mean_absolute_error(ytest,ypred))\n",
    "    print('mse',mean_squared_error(ytest,ypred))\n",
    "    print('r2',r2_score(ytest,ypred),'\\n')\n",
    "\n",
    "eval('Linear Regression',y_test,linear_pred)\n",
    "eval('Ridge Regression',y_test,ridge_pred)\n",
    "eval('Polynomial Regression',y_test,poly_pred)\n",
    "eval('svr',y_test,svr_pred)\n",
    "eval('Randome Forest',y_test,random_pred)"
   ]
  },
  {
   "cell_type": "code",
   "execution_count": 13,
   "id": "b6a6677a",
   "metadata": {},
   "outputs": [
    {
     "name": "stdout",
     "output_type": "stream",
     "text": [
      "random forest train R²: 0.8618106538084896\n",
      "polynomial train R²: 0.847964780056742\n"
     ]
    }
   ],
   "source": [
    "random_pred_train=random.predict(X_train)\n",
    "poly_pred_train=poly.predict(X_train_lin)\n",
    "\n",
    "print(\"random forest train R²:\", r2_score(y_train, random_pred_train))\n",
    "print(\"polynomial train R²:\", r2_score(y_train, poly_pred_train))"
   ]
  },
  {
   "cell_type": "code",
   "execution_count": 14,
   "id": "3d0d8317",
   "metadata": {},
   "outputs": [
    {
     "data": {
      "text/plain": [
       "['../data/random_forest.joblib']"
      ]
     },
     "execution_count": 14,
     "metadata": {},
     "output_type": "execute_result"
    }
   ],
   "source": [
    "import joblib\n",
    "\n",
    "joblib.dump(random,'../data/random_forest.joblib')"
   ]
  }
 ],
 "metadata": {
  "kernelspec": {
   "display_name": "jupty",
   "language": "python",
   "name": "python3"
  },
  "language_info": {
   "codemirror_mode": {
    "name": "ipython",
    "version": 3
   },
   "file_extension": ".py",
   "mimetype": "text/x-python",
   "name": "python",
   "nbconvert_exporter": "python",
   "pygments_lexer": "ipython3",
   "version": "3.13.2"
  }
 },
 "nbformat": 4,
 "nbformat_minor": 5
}
